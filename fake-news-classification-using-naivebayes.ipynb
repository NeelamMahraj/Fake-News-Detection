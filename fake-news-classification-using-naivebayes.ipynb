{
 "cells": [
  {
   "cell_type": "code",
   "execution_count": 1,
   "id": "95fa0fda",
   "metadata": {
    "_cell_guid": "b1076dfc-b9ad-4769-8c92-a6c4dae69d19",
    "_uuid": "8f2839f25d086af736a60e9eeb907d3b93b6e0e5",
    "execution": {
     "iopub.execute_input": "2023-08-16T10:39:19.001596Z",
     "iopub.status.busy": "2023-08-16T10:39:19.001047Z",
     "iopub.status.idle": "2023-08-16T10:39:21.037633Z",
     "shell.execute_reply": "2023-08-16T10:39:21.035908Z"
    },
    "papermill": {
     "duration": 2.051292,
     "end_time": "2023-08-16T10:39:21.040681",
     "exception": false,
     "start_time": "2023-08-16T10:39:18.989389",
     "status": "completed"
    },
    "tags": []
   },
   "outputs": [
    {
     "name": "stderr",
     "output_type": "stream",
     "text": [
      "/opt/conda/lib/python3.10/site-packages/scipy/__init__.py:146: UserWarning: A NumPy version >=1.16.5 and <1.23.0 is required for this version of SciPy (detected version 1.23.5\n",
      "  warnings.warn(f\"A NumPy version >={np_minversion} and <{np_maxversion}\"\n"
     ]
    },
    {
     "name": "stdout",
     "output_type": "stream",
     "text": [
      "/kaggle/input/fake-news-detection/True.csv\n",
      "/kaggle/input/fake-news-detection/Fake.csv\n"
     ]
    }
   ],
   "source": [
    "# This Python 3 environment comes with many helpful analytics libraries installed\n",
    "# It is defined by the kaggle/python Docker image: https://github.com/kaggle/docker-python\n",
    "# For example, here's several helpful packages to load\n",
    "\n",
    "import numpy as np # linear algebra\n",
    "import pandas as pd # data processing, CSV file I/O (e.g. pd.read_csv)\n",
    "import re\n",
    "from sklearn.model_selection import train_test_split\n",
    "from sklearn.feature_extraction.text import TfidfVectorizer\n",
    "import nltk\n",
    "from nltk.corpus import stopwords\n",
    "from nltk.stem.porter import PorterStemmer\n",
    "from sklearn.linear_model import LogisticRegression\n",
    "from sklearn.metrics import accuracy_score\n",
    "import string\n",
    "# Input data files are available in the read-only \"../input/\" directory\n",
    "# For example, running this (by clicking run or pressing Shift+Enter) will list all files under the input directory\n",
    "\n",
    "import os\n",
    "for dirname, _, filenames in os.walk('/kaggle/input'):\n",
    "    for filename in filenames:\n",
    "        print(os.path.join(dirname, filename))\n",
    "\n",
    "# You can write up to 20GB to the current directory (/kaggle/working/) that gets preserved as output when you create a version using \"Save & Run All\" \n",
    "# You can also write temporary files to /kaggle/temp/, but they won't be saved outside of the current session"
   ]
  },
  {
   "cell_type": "code",
   "execution_count": 2,
   "id": "098d14f5",
   "metadata": {
    "execution": {
     "iopub.execute_input": "2023-08-16T10:39:21.062655Z",
     "iopub.status.busy": "2023-08-16T10:39:21.061416Z",
     "iopub.status.idle": "2023-08-16T10:39:21.166268Z",
     "shell.execute_reply": "2023-08-16T10:39:21.164999Z"
    },
    "papermill": {
     "duration": 0.118586,
     "end_time": "2023-08-16T10:39:21.169119",
     "exception": false,
     "start_time": "2023-08-16T10:39:21.050533",
     "status": "completed"
    },
    "tags": []
   },
   "outputs": [
    {
     "name": "stdout",
     "output_type": "stream",
     "text": [
      "[nltk_data] Downloading package stopwords to /usr/share/nltk_data...\n",
      "[nltk_data]   Package stopwords is already up-to-date!\n"
     ]
    },
    {
     "data": {
      "text/plain": [
       "True"
      ]
     },
     "execution_count": 2,
     "metadata": {},
     "output_type": "execute_result"
    }
   ],
   "source": [
    "import nltk\n",
    "nltk.download('stopwords')"
   ]
  },
  {
   "cell_type": "code",
   "execution_count": 3,
   "id": "00354b13",
   "metadata": {
    "execution": {
     "iopub.execute_input": "2023-08-16T10:39:21.191752Z",
     "iopub.status.busy": "2023-08-16T10:39:21.190583Z",
     "iopub.status.idle": "2023-08-16T10:39:21.200940Z",
     "shell.execute_reply": "2023-08-16T10:39:21.199720Z"
    },
    "papermill": {
     "duration": 0.024083,
     "end_time": "2023-08-16T10:39:21.203434",
     "exception": false,
     "start_time": "2023-08-16T10:39:21.179351",
     "status": "completed"
    },
    "tags": []
   },
   "outputs": [
    {
     "name": "stdout",
     "output_type": "stream",
     "text": [
      "['i', 'me', 'my', 'myself', 'we', 'our', 'ours', 'ourselves', 'you', \"you're\", \"you've\", \"you'll\", \"you'd\", 'your', 'yours', 'yourself', 'yourselves', 'he', 'him', 'his', 'himself', 'she', \"she's\", 'her', 'hers', 'herself', 'it', \"it's\", 'its', 'itself', 'they', 'them', 'their', 'theirs', 'themselves', 'what', 'which', 'who', 'whom', 'this', 'that', \"that'll\", 'these', 'those', 'am', 'is', 'are', 'was', 'were', 'be', 'been', 'being', 'have', 'has', 'had', 'having', 'do', 'does', 'did', 'doing', 'a', 'an', 'the', 'and', 'but', 'if', 'or', 'because', 'as', 'until', 'while', 'of', 'at', 'by', 'for', 'with', 'about', 'against', 'between', 'into', 'through', 'during', 'before', 'after', 'above', 'below', 'to', 'from', 'up', 'down', 'in', 'out', 'on', 'off', 'over', 'under', 'again', 'further', 'then', 'once', 'here', 'there', 'when', 'where', 'why', 'how', 'all', 'any', 'both', 'each', 'few', 'more', 'most', 'other', 'some', 'such', 'no', 'nor', 'not', 'only', 'own', 'same', 'so', 'than', 'too', 'very', 's', 't', 'can', 'will', 'just', 'don', \"don't\", 'should', \"should've\", 'now', 'd', 'll', 'm', 'o', 're', 've', 'y', 'ain', 'aren', \"aren't\", 'couldn', \"couldn't\", 'didn', \"didn't\", 'doesn', \"doesn't\", 'hadn', \"hadn't\", 'hasn', \"hasn't\", 'haven', \"haven't\", 'isn', \"isn't\", 'ma', 'mightn', \"mightn't\", 'mustn', \"mustn't\", 'needn', \"needn't\", 'shan', \"shan't\", 'shouldn', \"shouldn't\", 'wasn', \"wasn't\", 'weren', \"weren't\", 'won', \"won't\", 'wouldn', \"wouldn't\"]\n"
     ]
    }
   ],
   "source": [
    "#let's see the stopwords\n",
    "print(stopwords.words('english'))"
   ]
  },
  {
   "cell_type": "code",
   "execution_count": 4,
   "id": "1371d353",
   "metadata": {
    "execution": {
     "iopub.execute_input": "2023-08-16T10:39:21.225736Z",
     "iopub.status.busy": "2023-08-16T10:39:21.224918Z",
     "iopub.status.idle": "2023-08-16T10:39:24.172367Z",
     "shell.execute_reply": "2023-08-16T10:39:24.171294Z"
    },
    "papermill": {
     "duration": 2.961459,
     "end_time": "2023-08-16T10:39:24.175156",
     "exception": false,
     "start_time": "2023-08-16T10:39:21.213697",
     "status": "completed"
    },
    "tags": []
   },
   "outputs": [],
   "source": [
    "df_fake = pd.read_csv(\"/kaggle/input/fake-news-detection/Fake.csv\")\n",
    "df_true = pd.read_csv(\"/kaggle/input/fake-news-detection/True.csv\")"
   ]
  },
  {
   "cell_type": "code",
   "execution_count": 5,
   "id": "db0824cc",
   "metadata": {
    "execution": {
     "iopub.execute_input": "2023-08-16T10:39:24.196866Z",
     "iopub.status.busy": "2023-08-16T10:39:24.196447Z",
     "iopub.status.idle": "2023-08-16T10:39:24.239240Z",
     "shell.execute_reply": "2023-08-16T10:39:24.237881Z"
    },
    "papermill": {
     "duration": 0.057148,
     "end_time": "2023-08-16T10:39:24.242374",
     "exception": false,
     "start_time": "2023-08-16T10:39:24.185226",
     "status": "completed"
    },
    "tags": []
   },
   "outputs": [],
   "source": [
    "# Add a label column to indicate fake (1) or true (0)\n",
    "df_fake['label'] = 1\n",
    "df_true['label'] = 0\n",
    "\n",
    "# Concatenate the DataFrames to merge the datasets\n",
    "merged_df = pd.concat([df_fake, df_true], ignore_index=True)\n",
    "\n",
    "# Shuffle the merged DataFrame to randomize the order\n",
    "merged_df = merged_df.sample(frac=1).reset_index(drop=True)\n"
   ]
  },
  {
   "cell_type": "code",
   "execution_count": 6,
   "id": "34864cae",
   "metadata": {
    "execution": {
     "iopub.execute_input": "2023-08-16T10:39:24.265199Z",
     "iopub.status.busy": "2023-08-16T10:39:24.264790Z",
     "iopub.status.idle": "2023-08-16T10:39:24.285505Z",
     "shell.execute_reply": "2023-08-16T10:39:24.284311Z"
    },
    "papermill": {
     "duration": 0.034466,
     "end_time": "2023-08-16T10:39:24.288114",
     "exception": false,
     "start_time": "2023-08-16T10:39:24.253648",
     "status": "completed"
    },
    "tags": []
   },
   "outputs": [
    {
     "data": {
      "text/html": [
       "<div>\n",
       "<style scoped>\n",
       "    .dataframe tbody tr th:only-of-type {\n",
       "        vertical-align: middle;\n",
       "    }\n",
       "\n",
       "    .dataframe tbody tr th {\n",
       "        vertical-align: top;\n",
       "    }\n",
       "\n",
       "    .dataframe thead th {\n",
       "        text-align: right;\n",
       "    }\n",
       "</style>\n",
       "<table border=\"1\" class=\"dataframe\">\n",
       "  <thead>\n",
       "    <tr style=\"text-align: right;\">\n",
       "      <th></th>\n",
       "      <th>title</th>\n",
       "      <th>text</th>\n",
       "      <th>subject</th>\n",
       "      <th>date</th>\n",
       "      <th>label</th>\n",
       "    </tr>\n",
       "  </thead>\n",
       "  <tbody>\n",
       "    <tr>\n",
       "      <th>0</th>\n",
       "      <td>PRESIDENT TRUMP BLASTS OBAMA: “Obamacare Was a...</td>\n",
       "      <td>President Trump gathered the Senators in the S...</td>\n",
       "      <td>politics</td>\n",
       "      <td>Jul 19, 2017</td>\n",
       "      <td>1</td>\n",
       "    </tr>\n",
       "    <tr>\n",
       "      <th>1</th>\n",
       "      <td>Keith Olbermann: Donald Trump Wants To Protec...</td>\n",
       "      <td>Four years ago, many complained about the fact...</td>\n",
       "      <td>News</td>\n",
       "      <td>October 3, 2016</td>\n",
       "      <td>1</td>\n",
       "    </tr>\n",
       "    <tr>\n",
       "      <th>2</th>\n",
       "      <td>Iraq court rules no region can secede after Ku...</td>\n",
       "      <td>BAGHDAD (Reuters) - Iraq s Supreme Federal Cou...</td>\n",
       "      <td>worldnews</td>\n",
       "      <td>November 6, 2017</td>\n",
       "      <td>0</td>\n",
       "    </tr>\n",
       "    <tr>\n",
       "      <th>3</th>\n",
       "      <td>Church Installs ‘Watering System’ To Get Rid ...</td>\n",
       "      <td>Anyone who has read the Bible knows that that ...</td>\n",
       "      <td>News</td>\n",
       "      <td>February 20, 2016</td>\n",
       "      <td>1</td>\n",
       "    </tr>\n",
       "    <tr>\n",
       "      <th>4</th>\n",
       "      <td>When The View’s WHOOPI GOLDBERG Told Hillary W...</td>\n",
       "      <td>The sympathetic (and borderline communist) wom...</td>\n",
       "      <td>politics</td>\n",
       "      <td>Sep 14, 2017</td>\n",
       "      <td>1</td>\n",
       "    </tr>\n",
       "    <tr>\n",
       "      <th>5</th>\n",
       "      <td>CLASSIC VIDEO: Angry Woman Nails It Describing...</td>\n",
       "      <td>This woman nails it! LANGUAGE ALERT!</td>\n",
       "      <td>Government News</td>\n",
       "      <td>Jan 27, 2016</td>\n",
       "      <td>1</td>\n",
       "    </tr>\n",
       "    <tr>\n",
       "      <th>6</th>\n",
       "      <td>JOE BIDEN’S NIECE Too Big To Jail? Released Af...</td>\n",
       "      <td>The rules must not apply to Caroline Biden, ni...</td>\n",
       "      <td>politics</td>\n",
       "      <td>Jun 10, 2017</td>\n",
       "      <td>1</td>\n",
       "    </tr>\n",
       "    <tr>\n",
       "      <th>7</th>\n",
       "      <td>Trump to announce transportation secretary pic...</td>\n",
       "      <td>WASHINGTON (Reuters) - President-elect Donald ...</td>\n",
       "      <td>politicsNews</td>\n",
       "      <td>November 29, 2016</td>\n",
       "      <td>0</td>\n",
       "    </tr>\n",
       "    <tr>\n",
       "      <th>8</th>\n",
       "      <td>Brexit talks cannot move to phase 2 without bo...</td>\n",
       "      <td>DUBLIN (Reuters) - Britain s talks on exiting ...</td>\n",
       "      <td>worldnews</td>\n",
       "      <td>October 27, 2017</td>\n",
       "      <td>0</td>\n",
       "    </tr>\n",
       "    <tr>\n",
       "      <th>9</th>\n",
       "      <td>EU-U.S. trade deal in doubt as France urges en...</td>\n",
       "      <td>PARIS/BRUSSELS (Reuters) - France cast serious...</td>\n",
       "      <td>politicsNews</td>\n",
       "      <td>August 30, 2016</td>\n",
       "      <td>0</td>\n",
       "    </tr>\n",
       "  </tbody>\n",
       "</table>\n",
       "</div>"
      ],
      "text/plain": [
       "                                               title  \\\n",
       "0  PRESIDENT TRUMP BLASTS OBAMA: “Obamacare Was a...   \n",
       "1   Keith Olbermann: Donald Trump Wants To Protec...   \n",
       "2  Iraq court rules no region can secede after Ku...   \n",
       "3   Church Installs ‘Watering System’ To Get Rid ...   \n",
       "4  When The View’s WHOOPI GOLDBERG Told Hillary W...   \n",
       "5  CLASSIC VIDEO: Angry Woman Nails It Describing...   \n",
       "6  JOE BIDEN’S NIECE Too Big To Jail? Released Af...   \n",
       "7  Trump to announce transportation secretary pic...   \n",
       "8  Brexit talks cannot move to phase 2 without bo...   \n",
       "9  EU-U.S. trade deal in doubt as France urges en...   \n",
       "\n",
       "                                                text          subject  \\\n",
       "0  President Trump gathered the Senators in the S...         politics   \n",
       "1  Four years ago, many complained about the fact...             News   \n",
       "2  BAGHDAD (Reuters) - Iraq s Supreme Federal Cou...        worldnews   \n",
       "3  Anyone who has read the Bible knows that that ...             News   \n",
       "4  The sympathetic (and borderline communist) wom...         politics   \n",
       "5              This woman nails it! LANGUAGE ALERT!   Government News   \n",
       "6  The rules must not apply to Caroline Biden, ni...         politics   \n",
       "7  WASHINGTON (Reuters) - President-elect Donald ...     politicsNews   \n",
       "8  DUBLIN (Reuters) - Britain s talks on exiting ...        worldnews   \n",
       "9  PARIS/BRUSSELS (Reuters) - France cast serious...     politicsNews   \n",
       "\n",
       "                 date  label  \n",
       "0        Jul 19, 2017      1  \n",
       "1     October 3, 2016      1  \n",
       "2   November 6, 2017       0  \n",
       "3   February 20, 2016      1  \n",
       "4        Sep 14, 2017      1  \n",
       "5        Jan 27, 2016      1  \n",
       "6        Jun 10, 2017      1  \n",
       "7  November 29, 2016       0  \n",
       "8   October 27, 2017       0  \n",
       "9    August 30, 2016       0  "
      ]
     },
     "execution_count": 6,
     "metadata": {},
     "output_type": "execute_result"
    }
   ],
   "source": [
    "merged_df.head(10)"
   ]
  },
  {
   "cell_type": "code",
   "execution_count": 7,
   "id": "d0b2db63",
   "metadata": {
    "execution": {
     "iopub.execute_input": "2023-08-16T10:39:24.310891Z",
     "iopub.status.busy": "2023-08-16T10:39:24.310467Z",
     "iopub.status.idle": "2023-08-16T10:39:24.389260Z",
     "shell.execute_reply": "2023-08-16T10:39:24.388070Z"
    },
    "papermill": {
     "duration": 0.093047,
     "end_time": "2023-08-16T10:39:24.391866",
     "exception": false,
     "start_time": "2023-08-16T10:39:24.298819",
     "status": "completed"
    },
    "tags": []
   },
   "outputs": [
    {
     "data": {
      "text/plain": [
       "title      0\n",
       "text       0\n",
       "subject    0\n",
       "date       0\n",
       "label      0\n",
       "dtype: int64"
      ]
     },
     "execution_count": 7,
     "metadata": {},
     "output_type": "execute_result"
    }
   ],
   "source": [
    "merged_df.isnull().sum()"
   ]
  },
  {
   "cell_type": "code",
   "execution_count": 8,
   "id": "21267ccf",
   "metadata": {
    "execution": {
     "iopub.execute_input": "2023-08-16T10:39:24.414752Z",
     "iopub.status.busy": "2023-08-16T10:39:24.414334Z",
     "iopub.status.idle": "2023-08-16T10:39:24.422534Z",
     "shell.execute_reply": "2023-08-16T10:39:24.421129Z"
    },
    "papermill": {
     "duration": 0.023045,
     "end_time": "2023-08-16T10:39:24.425506",
     "exception": false,
     "start_time": "2023-08-16T10:39:24.402461",
     "status": "completed"
    },
    "tags": []
   },
   "outputs": [
    {
     "data": {
      "text/plain": [
       "(44898, 5)"
      ]
     },
     "execution_count": 8,
     "metadata": {},
     "output_type": "execute_result"
    }
   ],
   "source": [
    "merged_df.shape"
   ]
  },
  {
   "cell_type": "code",
   "execution_count": 9,
   "id": "48672ff0",
   "metadata": {
    "execution": {
     "iopub.execute_input": "2023-08-16T10:39:24.449645Z",
     "iopub.status.busy": "2023-08-16T10:39:24.449235Z",
     "iopub.status.idle": "2023-08-16T10:39:24.482020Z",
     "shell.execute_reply": "2023-08-16T10:39:24.480681Z"
    },
    "papermill": {
     "duration": 0.04884,
     "end_time": "2023-08-16T10:39:24.485050",
     "exception": false,
     "start_time": "2023-08-16T10:39:24.436210",
     "status": "completed"
    },
    "tags": []
   },
   "outputs": [],
   "source": [
    "merged_df['Content'] = merged_df['subject'] + ' : ' + merged_df['title']"
   ]
  },
  {
   "cell_type": "code",
   "execution_count": 10,
   "id": "cbfe52a9",
   "metadata": {
    "execution": {
     "iopub.execute_input": "2023-08-16T10:39:24.508331Z",
     "iopub.status.busy": "2023-08-16T10:39:24.507924Z",
     "iopub.status.idle": "2023-08-16T10:39:24.526473Z",
     "shell.execute_reply": "2023-08-16T10:39:24.525233Z"
    },
    "papermill": {
     "duration": 0.033799,
     "end_time": "2023-08-16T10:39:24.529492",
     "exception": false,
     "start_time": "2023-08-16T10:39:24.495693",
     "status": "completed"
    },
    "tags": []
   },
   "outputs": [
    {
     "data": {
      "text/html": [
       "<div>\n",
       "<style scoped>\n",
       "    .dataframe tbody tr th:only-of-type {\n",
       "        vertical-align: middle;\n",
       "    }\n",
       "\n",
       "    .dataframe tbody tr th {\n",
       "        vertical-align: top;\n",
       "    }\n",
       "\n",
       "    .dataframe thead th {\n",
       "        text-align: right;\n",
       "    }\n",
       "</style>\n",
       "<table border=\"1\" class=\"dataframe\">\n",
       "  <thead>\n",
       "    <tr style=\"text-align: right;\">\n",
       "      <th></th>\n",
       "      <th>title</th>\n",
       "      <th>text</th>\n",
       "      <th>subject</th>\n",
       "      <th>date</th>\n",
       "      <th>label</th>\n",
       "      <th>Content</th>\n",
       "    </tr>\n",
       "  </thead>\n",
       "  <tbody>\n",
       "    <tr>\n",
       "      <th>0</th>\n",
       "      <td>PRESIDENT TRUMP BLASTS OBAMA: “Obamacare Was a...</td>\n",
       "      <td>President Trump gathered the Senators in the S...</td>\n",
       "      <td>politics</td>\n",
       "      <td>Jul 19, 2017</td>\n",
       "      <td>1</td>\n",
       "      <td>politics : PRESIDENT TRUMP BLASTS OBAMA: “Obam...</td>\n",
       "    </tr>\n",
       "    <tr>\n",
       "      <th>1</th>\n",
       "      <td>Keith Olbermann: Donald Trump Wants To Protec...</td>\n",
       "      <td>Four years ago, many complained about the fact...</td>\n",
       "      <td>News</td>\n",
       "      <td>October 3, 2016</td>\n",
       "      <td>1</td>\n",
       "      <td>News :  Keith Olbermann: Donald Trump Wants To...</td>\n",
       "    </tr>\n",
       "    <tr>\n",
       "      <th>2</th>\n",
       "      <td>Iraq court rules no region can secede after Ku...</td>\n",
       "      <td>BAGHDAD (Reuters) - Iraq s Supreme Federal Cou...</td>\n",
       "      <td>worldnews</td>\n",
       "      <td>November 6, 2017</td>\n",
       "      <td>0</td>\n",
       "      <td>worldnews : Iraq court rules no region can sec...</td>\n",
       "    </tr>\n",
       "    <tr>\n",
       "      <th>3</th>\n",
       "      <td>Church Installs ‘Watering System’ To Get Rid ...</td>\n",
       "      <td>Anyone who has read the Bible knows that that ...</td>\n",
       "      <td>News</td>\n",
       "      <td>February 20, 2016</td>\n",
       "      <td>1</td>\n",
       "      <td>News :  Church Installs ‘Watering System’ To G...</td>\n",
       "    </tr>\n",
       "    <tr>\n",
       "      <th>4</th>\n",
       "      <td>When The View’s WHOOPI GOLDBERG Told Hillary W...</td>\n",
       "      <td>The sympathetic (and borderline communist) wom...</td>\n",
       "      <td>politics</td>\n",
       "      <td>Sep 14, 2017</td>\n",
       "      <td>1</td>\n",
       "      <td>politics : When The View’s WHOOPI GOLDBERG Tol...</td>\n",
       "    </tr>\n",
       "    <tr>\n",
       "      <th>...</th>\n",
       "      <td>...</td>\n",
       "      <td>...</td>\n",
       "      <td>...</td>\n",
       "      <td>...</td>\n",
       "      <td>...</td>\n",
       "      <td>...</td>\n",
       "    </tr>\n",
       "    <tr>\n",
       "      <th>44893</th>\n",
       "      <td>BAD NEWS FOR THE SPEAKER: Many Republicans Agr...</td>\n",
       "      <td>Trump knows the art of the deal like no one el...</td>\n",
       "      <td>politics</td>\n",
       "      <td>Sep 8, 2017</td>\n",
       "      <td>1</td>\n",
       "      <td>politics : BAD NEWS FOR THE SPEAKER: Many Repu...</td>\n",
       "    </tr>\n",
       "    <tr>\n",
       "      <th>44894</th>\n",
       "      <td>Supporters of Egypt presidential hopeful arres...</td>\n",
       "      <td>CAIRO (Reuters) - Egyptian security forces hav...</td>\n",
       "      <td>worldnews</td>\n",
       "      <td>December 13, 2017</td>\n",
       "      <td>0</td>\n",
       "      <td>worldnews : Supporters of Egypt presidential h...</td>\n",
       "    </tr>\n",
       "    <tr>\n",
       "      <th>44895</th>\n",
       "      <td>Britain's government to push ahead with plan o...</td>\n",
       "      <td>LONDON (Reuters) - Britain s Prime Minister Th...</td>\n",
       "      <td>worldnews</td>\n",
       "      <td>November 17, 2017</td>\n",
       "      <td>0</td>\n",
       "      <td>worldnews : Britain's government to push ahead...</td>\n",
       "    </tr>\n",
       "    <tr>\n",
       "      <th>44896</th>\n",
       "      <td>Biafra separatists sponsored by Nigerian gover...</td>\n",
       "      <td>ABUJA (Reuters) - A Nigerian minister accused ...</td>\n",
       "      <td>worldnews</td>\n",
       "      <td>September 18, 2017</td>\n",
       "      <td>0</td>\n",
       "      <td>worldnews : Biafra separatists sponsored by Ni...</td>\n",
       "    </tr>\n",
       "    <tr>\n",
       "      <th>44897</th>\n",
       "      <td>Hypocrite Jeff Sessions’ OWN WORDS On Perjury...</td>\n",
       "      <td>If Jeff Sessions really cares about the law an...</td>\n",
       "      <td>News</td>\n",
       "      <td>March 3, 2017</td>\n",
       "      <td>1</td>\n",
       "      <td>News :  Hypocrite Jeff Sessions’ OWN WORDS On ...</td>\n",
       "    </tr>\n",
       "  </tbody>\n",
       "</table>\n",
       "<p>44898 rows × 6 columns</p>\n",
       "</div>"
      ],
      "text/plain": [
       "                                                   title  \\\n",
       "0      PRESIDENT TRUMP BLASTS OBAMA: “Obamacare Was a...   \n",
       "1       Keith Olbermann: Donald Trump Wants To Protec...   \n",
       "2      Iraq court rules no region can secede after Ku...   \n",
       "3       Church Installs ‘Watering System’ To Get Rid ...   \n",
       "4      When The View’s WHOOPI GOLDBERG Told Hillary W...   \n",
       "...                                                  ...   \n",
       "44893  BAD NEWS FOR THE SPEAKER: Many Republicans Agr...   \n",
       "44894  Supporters of Egypt presidential hopeful arres...   \n",
       "44895  Britain's government to push ahead with plan o...   \n",
       "44896  Biafra separatists sponsored by Nigerian gover...   \n",
       "44897   Hypocrite Jeff Sessions’ OWN WORDS On Perjury...   \n",
       "\n",
       "                                                    text    subject  \\\n",
       "0      President Trump gathered the Senators in the S...   politics   \n",
       "1      Four years ago, many complained about the fact...       News   \n",
       "2      BAGHDAD (Reuters) - Iraq s Supreme Federal Cou...  worldnews   \n",
       "3      Anyone who has read the Bible knows that that ...       News   \n",
       "4      The sympathetic (and borderline communist) wom...   politics   \n",
       "...                                                  ...        ...   \n",
       "44893  Trump knows the art of the deal like no one el...   politics   \n",
       "44894  CAIRO (Reuters) - Egyptian security forces hav...  worldnews   \n",
       "44895  LONDON (Reuters) - Britain s Prime Minister Th...  worldnews   \n",
       "44896  ABUJA (Reuters) - A Nigerian minister accused ...  worldnews   \n",
       "44897  If Jeff Sessions really cares about the law an...       News   \n",
       "\n",
       "                      date  label  \\\n",
       "0             Jul 19, 2017      1   \n",
       "1          October 3, 2016      1   \n",
       "2        November 6, 2017       0   \n",
       "3        February 20, 2016      1   \n",
       "4             Sep 14, 2017      1   \n",
       "...                    ...    ...   \n",
       "44893          Sep 8, 2017      1   \n",
       "44894   December 13, 2017       0   \n",
       "44895   November 17, 2017       0   \n",
       "44896  September 18, 2017       0   \n",
       "44897        March 3, 2017      1   \n",
       "\n",
       "                                                 Content  \n",
       "0      politics : PRESIDENT TRUMP BLASTS OBAMA: “Obam...  \n",
       "1      News :  Keith Olbermann: Donald Trump Wants To...  \n",
       "2      worldnews : Iraq court rules no region can sec...  \n",
       "3      News :  Church Installs ‘Watering System’ To G...  \n",
       "4      politics : When The View’s WHOOPI GOLDBERG Tol...  \n",
       "...                                                  ...  \n",
       "44893  politics : BAD NEWS FOR THE SPEAKER: Many Repu...  \n",
       "44894  worldnews : Supporters of Egypt presidential h...  \n",
       "44895  worldnews : Britain's government to push ahead...  \n",
       "44896  worldnews : Biafra separatists sponsored by Ni...  \n",
       "44897  News :  Hypocrite Jeff Sessions’ OWN WORDS On ...  \n",
       "\n",
       "[44898 rows x 6 columns]"
      ]
     },
     "execution_count": 10,
     "metadata": {},
     "output_type": "execute_result"
    }
   ],
   "source": [
    "merged_df"
   ]
  },
  {
   "cell_type": "code",
   "execution_count": 11,
   "id": "3e9ff579",
   "metadata": {
    "execution": {
     "iopub.execute_input": "2023-08-16T10:39:24.554073Z",
     "iopub.status.busy": "2023-08-16T10:39:24.553244Z",
     "iopub.status.idle": "2023-08-16T10:39:24.566833Z",
     "shell.execute_reply": "2023-08-16T10:39:24.565581Z"
    },
    "papermill": {
     "duration": 0.029257,
     "end_time": "2023-08-16T10:39:24.569985",
     "exception": false,
     "start_time": "2023-08-16T10:39:24.540728",
     "status": "completed"
    },
    "tags": []
   },
   "outputs": [],
   "source": [
    "X = merged_df.drop(columns='label',axis=1)\n",
    "Y = merged_df['label']\n"
   ]
  },
  {
   "cell_type": "code",
   "execution_count": 12,
   "id": "37a280f1",
   "metadata": {
    "execution": {
     "iopub.execute_input": "2023-08-16T10:39:24.593836Z",
     "iopub.status.busy": "2023-08-16T10:39:24.593371Z",
     "iopub.status.idle": "2023-08-16T10:39:24.598484Z",
     "shell.execute_reply": "2023-08-16T10:39:24.597259Z"
    },
    "papermill": {
     "duration": 0.019855,
     "end_time": "2023-08-16T10:39:24.600914",
     "exception": false,
     "start_time": "2023-08-16T10:39:24.581059",
     "status": "completed"
    },
    "tags": []
   },
   "outputs": [],
   "source": [
    "#Un comment the below line of code to see the X and Y\n",
    "# print(X)\n",
    "# print(Y)"
   ]
  },
  {
   "cell_type": "code",
   "execution_count": 13,
   "id": "89a5559c",
   "metadata": {
    "execution": {
     "iopub.execute_input": "2023-08-16T10:39:24.625046Z",
     "iopub.status.busy": "2023-08-16T10:39:24.624640Z",
     "iopub.status.idle": "2023-08-16T10:39:24.629761Z",
     "shell.execute_reply": "2023-08-16T10:39:24.628376Z"
    },
    "papermill": {
     "duration": 0.020257,
     "end_time": "2023-08-16T10:39:24.632360",
     "exception": false,
     "start_time": "2023-08-16T10:39:24.612103",
     "status": "completed"
    },
    "tags": []
   },
   "outputs": [],
   "source": [
    "port_stem = PorterStemmer()"
   ]
  },
  {
   "cell_type": "code",
   "execution_count": 14,
   "id": "f46fa48e",
   "metadata": {
    "execution": {
     "iopub.execute_input": "2023-08-16T10:39:24.656916Z",
     "iopub.status.busy": "2023-08-16T10:39:24.656470Z",
     "iopub.status.idle": "2023-08-16T10:39:24.663143Z",
     "shell.execute_reply": "2023-08-16T10:39:24.661955Z"
    },
    "papermill": {
     "duration": 0.02223,
     "end_time": "2023-08-16T10:39:24.665555",
     "exception": false,
     "start_time": "2023-08-16T10:39:24.643325",
     "status": "completed"
    },
    "tags": []
   },
   "outputs": [],
   "source": [
    "def stemming(Content):\n",
    "    stemmed_con = re.sub('[^A-Za-z]',' ',Content)\n",
    "    stemmed_con = stemmed_con.lower()\n",
    "    stemmed_con = stemmed_con.split()\n",
    "    stemmed_con = [port_stem.stem(word) for word in stemmed_con if not word in stopwords.words('english')]\n",
    "    stemmed_con = ' '.join(stemmed_con)\n",
    "    return stemmed_con"
   ]
  },
  {
   "cell_type": "code",
   "execution_count": 15,
   "id": "15335422",
   "metadata": {
    "execution": {
     "iopub.execute_input": "2023-08-16T10:39:24.690686Z",
     "iopub.status.busy": "2023-08-16T10:39:24.690241Z",
     "iopub.status.idle": "2023-08-16T10:41:14.646960Z",
     "shell.execute_reply": "2023-08-16T10:41:14.645329Z"
    },
    "papermill": {
     "duration": 109.973245,
     "end_time": "2023-08-16T10:41:14.650363",
     "exception": false,
     "start_time": "2023-08-16T10:39:24.677118",
     "status": "completed"
    },
    "tags": []
   },
   "outputs": [],
   "source": [
    "merged_df['Content'] = merged_df['Content'].apply(stemming)"
   ]
  },
  {
   "cell_type": "code",
   "execution_count": 16,
   "id": "4576604f",
   "metadata": {
    "execution": {
     "iopub.execute_input": "2023-08-16T10:41:14.674546Z",
     "iopub.status.busy": "2023-08-16T10:41:14.674124Z",
     "iopub.status.idle": "2023-08-16T10:41:14.683042Z",
     "shell.execute_reply": "2023-08-16T10:41:14.681877Z"
    },
    "papermill": {
     "duration": 0.024018,
     "end_time": "2023-08-16T10:41:14.685498",
     "exception": false,
     "start_time": "2023-08-16T10:41:14.661480",
     "status": "completed"
    },
    "tags": []
   },
   "outputs": [
    {
     "data": {
      "text/plain": [
       "0        polit presid trump blast obama obamacar big bi...\n",
       "1        news keith olbermann donald trump want protect...\n",
       "2        worldnew iraq court rule region seced kurdish ...\n",
       "3        news church instal water system get rid homele...\n",
       "4        polit view whoopi goldberg told hillari lost t...\n",
       "                               ...                        \n",
       "44893    polit bad news speaker mani republican agre tr...\n",
       "44894    worldnew support egypt presidenti hope arrest ...\n",
       "44895    worldnew britain govern push ahead plan specif...\n",
       "44896    worldnew biafra separatist sponsor nigerian go...\n",
       "44897    news hypocrit jeff session word perjuri came b...\n",
       "Name: Content, Length: 44898, dtype: object"
      ]
     },
     "execution_count": 16,
     "metadata": {},
     "output_type": "execute_result"
    }
   ],
   "source": [
    "merged_df['Content']"
   ]
  },
  {
   "cell_type": "code",
   "execution_count": 17,
   "id": "5b559c74",
   "metadata": {
    "execution": {
     "iopub.execute_input": "2023-08-16T10:41:14.710383Z",
     "iopub.status.busy": "2023-08-16T10:41:14.709673Z",
     "iopub.status.idle": "2023-08-16T10:41:14.720373Z",
     "shell.execute_reply": "2023-08-16T10:41:14.719251Z"
    },
    "papermill": {
     "duration": 0.027014,
     "end_time": "2023-08-16T10:41:14.723509",
     "exception": false,
     "start_time": "2023-08-16T10:41:14.696495",
     "status": "completed"
    },
    "tags": []
   },
   "outputs": [],
   "source": [
    "#the below code will separate Content and label column and save it in X and Y\n",
    "X = merged_df['Content'].values\n",
    "Y = merged_df['label'].values"
   ]
  },
  {
   "cell_type": "code",
   "execution_count": 18,
   "id": "d4ed77d1",
   "metadata": {
    "execution": {
     "iopub.execute_input": "2023-08-16T10:41:14.748415Z",
     "iopub.status.busy": "2023-08-16T10:41:14.747723Z",
     "iopub.status.idle": "2023-08-16T10:41:14.754912Z",
     "shell.execute_reply": "2023-08-16T10:41:14.753685Z"
    },
    "papermill": {
     "duration": 0.022317,
     "end_time": "2023-08-16T10:41:14.757269",
     "exception": false,
     "start_time": "2023-08-16T10:41:14.734952",
     "status": "completed"
    },
    "tags": []
   },
   "outputs": [
    {
     "data": {
      "text/plain": [
       "array(['polit presid trump blast obama obamacar big big lie lie lie presid said time video',\n",
       "       'news keith olbermann donald trump want protect right poison dog video',\n",
       "       'worldnew iraq court rule region seced kurdish independ bid', ...,\n",
       "       'worldnew britain govern push ahead plan specif brexit date',\n",
       "       'worldnew biafra separatist sponsor nigerian govern oppon minist',\n",
       "       'news hypocrit jeff session word perjuri came back bite ass'],\n",
       "      dtype=object)"
      ]
     },
     "execution_count": 18,
     "metadata": {},
     "output_type": "execute_result"
    }
   ],
   "source": [
    "X"
   ]
  },
  {
   "cell_type": "code",
   "execution_count": 19,
   "id": "de93dbe8",
   "metadata": {
    "execution": {
     "iopub.execute_input": "2023-08-16T10:41:14.782352Z",
     "iopub.status.busy": "2023-08-16T10:41:14.781611Z",
     "iopub.status.idle": "2023-08-16T10:41:15.632565Z",
     "shell.execute_reply": "2023-08-16T10:41:15.631389Z"
    },
    "papermill": {
     "duration": 0.866374,
     "end_time": "2023-08-16T10:41:15.635069",
     "exception": false,
     "start_time": "2023-08-16T10:41:14.768695",
     "status": "completed"
    },
    "tags": []
   },
   "outputs": [
    {
     "data": {
      "text/html": [
       "<style>#sk-container-id-1 {color: black;background-color: white;}#sk-container-id-1 pre{padding: 0;}#sk-container-id-1 div.sk-toggleable {background-color: white;}#sk-container-id-1 label.sk-toggleable__label {cursor: pointer;display: block;width: 100%;margin-bottom: 0;padding: 0.3em;box-sizing: border-box;text-align: center;}#sk-container-id-1 label.sk-toggleable__label-arrow:before {content: \"▸\";float: left;margin-right: 0.25em;color: #696969;}#sk-container-id-1 label.sk-toggleable__label-arrow:hover:before {color: black;}#sk-container-id-1 div.sk-estimator:hover label.sk-toggleable__label-arrow:before {color: black;}#sk-container-id-1 div.sk-toggleable__content {max-height: 0;max-width: 0;overflow: hidden;text-align: left;background-color: #f0f8ff;}#sk-container-id-1 div.sk-toggleable__content pre {margin: 0.2em;color: black;border-radius: 0.25em;background-color: #f0f8ff;}#sk-container-id-1 input.sk-toggleable__control:checked~div.sk-toggleable__content {max-height: 200px;max-width: 100%;overflow: auto;}#sk-container-id-1 input.sk-toggleable__control:checked~label.sk-toggleable__label-arrow:before {content: \"▾\";}#sk-container-id-1 div.sk-estimator input.sk-toggleable__control:checked~label.sk-toggleable__label {background-color: #d4ebff;}#sk-container-id-1 div.sk-label input.sk-toggleable__control:checked~label.sk-toggleable__label {background-color: #d4ebff;}#sk-container-id-1 input.sk-hidden--visually {border: 0;clip: rect(1px 1px 1px 1px);clip: rect(1px, 1px, 1px, 1px);height: 1px;margin: -1px;overflow: hidden;padding: 0;position: absolute;width: 1px;}#sk-container-id-1 div.sk-estimator {font-family: monospace;background-color: #f0f8ff;border: 1px dotted black;border-radius: 0.25em;box-sizing: border-box;margin-bottom: 0.5em;}#sk-container-id-1 div.sk-estimator:hover {background-color: #d4ebff;}#sk-container-id-1 div.sk-parallel-item::after {content: \"\";width: 100%;border-bottom: 1px solid gray;flex-grow: 1;}#sk-container-id-1 div.sk-label:hover label.sk-toggleable__label {background-color: #d4ebff;}#sk-container-id-1 div.sk-serial::before {content: \"\";position: absolute;border-left: 1px solid gray;box-sizing: border-box;top: 0;bottom: 0;left: 50%;z-index: 0;}#sk-container-id-1 div.sk-serial {display: flex;flex-direction: column;align-items: center;background-color: white;padding-right: 0.2em;padding-left: 0.2em;position: relative;}#sk-container-id-1 div.sk-item {position: relative;z-index: 1;}#sk-container-id-1 div.sk-parallel {display: flex;align-items: stretch;justify-content: center;background-color: white;position: relative;}#sk-container-id-1 div.sk-item::before, #sk-container-id-1 div.sk-parallel-item::before {content: \"\";position: absolute;border-left: 1px solid gray;box-sizing: border-box;top: 0;bottom: 0;left: 50%;z-index: -1;}#sk-container-id-1 div.sk-parallel-item {display: flex;flex-direction: column;z-index: 1;position: relative;background-color: white;}#sk-container-id-1 div.sk-parallel-item:first-child::after {align-self: flex-end;width: 50%;}#sk-container-id-1 div.sk-parallel-item:last-child::after {align-self: flex-start;width: 50%;}#sk-container-id-1 div.sk-parallel-item:only-child::after {width: 0;}#sk-container-id-1 div.sk-dashed-wrapped {border: 1px dashed gray;margin: 0 0.4em 0.5em 0.4em;box-sizing: border-box;padding-bottom: 0.4em;background-color: white;}#sk-container-id-1 div.sk-label label {font-family: monospace;font-weight: bold;display: inline-block;line-height: 1.2em;}#sk-container-id-1 div.sk-label-container {text-align: center;}#sk-container-id-1 div.sk-container {/* jupyter's `normalize.less` sets `[hidden] { display: none; }` but bootstrap.min.css set `[hidden] { display: none !important; }` so we also need the `!important` here to be able to override the default hidden behavior on the sphinx rendered scikit-learn.org. See: https://github.com/scikit-learn/scikit-learn/issues/21755 */display: inline-block !important;position: relative;}#sk-container-id-1 div.sk-text-repr-fallback {display: none;}</style><div id=\"sk-container-id-1\" class=\"sk-top-container\"><div class=\"sk-text-repr-fallback\"><pre>TfidfVectorizer()</pre><b>In a Jupyter environment, please rerun this cell to show the HTML representation or trust the notebook. <br />On GitHub, the HTML representation is unable to render, please try loading this page with nbviewer.org.</b></div><div class=\"sk-container\" hidden><div class=\"sk-item\"><div class=\"sk-estimator sk-toggleable\"><input class=\"sk-toggleable__control sk-hidden--visually\" id=\"sk-estimator-id-1\" type=\"checkbox\" checked><label for=\"sk-estimator-id-1\" class=\"sk-toggleable__label sk-toggleable__label-arrow\">TfidfVectorizer</label><div class=\"sk-toggleable__content\"><pre>TfidfVectorizer()</pre></div></div></div></div></div>"
      ],
      "text/plain": [
       "TfidfVectorizer()"
      ]
     },
     "execution_count": 19,
     "metadata": {},
     "output_type": "execute_result"
    }
   ],
   "source": [
    "# Converting textual data to numerical data\n",
    "vector = TfidfVectorizer()\n",
    "vector.fit(X)"
   ]
  },
  {
   "cell_type": "code",
   "execution_count": 20,
   "id": "05c3b09f",
   "metadata": {
    "execution": {
     "iopub.execute_input": "2023-08-16T10:41:15.660602Z",
     "iopub.status.busy": "2023-08-16T10:41:15.659967Z",
     "iopub.status.idle": "2023-08-16T10:41:16.468245Z",
     "shell.execute_reply": "2023-08-16T10:41:16.466887Z"
    },
    "papermill": {
     "duration": 0.824947,
     "end_time": "2023-08-16T10:41:16.471408",
     "exception": false,
     "start_time": "2023-08-16T10:41:15.646461",
     "status": "completed"
    },
    "tags": []
   },
   "outputs": [],
   "source": [
    "transform_X = vector.transform(X)"
   ]
  },
  {
   "cell_type": "code",
   "execution_count": 21,
   "id": "1541322d",
   "metadata": {
    "execution": {
     "iopub.execute_input": "2023-08-16T10:41:16.502920Z",
     "iopub.status.busy": "2023-08-16T10:41:16.502431Z",
     "iopub.status.idle": "2023-08-16T10:41:19.032155Z",
     "shell.execute_reply": "2023-08-16T10:41:19.030743Z"
    },
    "papermill": {
     "duration": 2.550111,
     "end_time": "2023-08-16T10:41:19.035094",
     "exception": false,
     "start_time": "2023-08-16T10:41:16.484983",
     "status": "completed"
    },
    "tags": []
   },
   "outputs": [
    {
     "name": "stdout",
     "output_type": "stream",
     "text": [
      "[[0. 0. 0. ... 0. 0. 0.]\n",
      " [0. 0. 0. ... 0. 0. 0.]\n",
      " [0. 0. 0. ... 0. 0. 0.]\n",
      " ...\n",
      " [0. 0. 0. ... 0. 0. 0.]\n",
      " [0. 0. 0. ... 0. 0. 0.]\n",
      " [0. 0. 0. ... 0. 0. 0.]]\n"
     ]
    }
   ],
   "source": [
    "tfidf_array = transform_X.toarray()\n",
    "\n",
    "print(tfidf_array)"
   ]
  },
  {
   "cell_type": "code",
   "execution_count": 22,
   "id": "ad9fa834",
   "metadata": {
    "execution": {
     "iopub.execute_input": "2023-08-16T10:41:19.062746Z",
     "iopub.status.busy": "2023-08-16T10:41:19.062359Z",
     "iopub.status.idle": "2023-08-16T10:41:19.069315Z",
     "shell.execute_reply": "2023-08-16T10:41:19.068181Z"
    },
    "papermill": {
     "duration": 0.024722,
     "end_time": "2023-08-16T10:41:19.071753",
     "exception": false,
     "start_time": "2023-08-16T10:41:19.047031",
     "status": "completed"
    },
    "tags": []
   },
   "outputs": [
    {
     "data": {
      "text/plain": [
       "numpy.ndarray"
      ]
     },
     "execution_count": 22,
     "metadata": {},
     "output_type": "execute_result"
    }
   ],
   "source": [
    "type(tfidf_array)"
   ]
  },
  {
   "cell_type": "code",
   "execution_count": 23,
   "id": "7d4b4e25",
   "metadata": {
    "execution": {
     "iopub.execute_input": "2023-08-16T10:41:19.098128Z",
     "iopub.status.busy": "2023-08-16T10:41:19.097709Z",
     "iopub.status.idle": "2023-08-16T10:41:22.303278Z",
     "shell.execute_reply": "2023-08-16T10:41:22.302113Z"
    },
    "papermill": {
     "duration": 3.22228,
     "end_time": "2023-08-16T10:41:22.306076",
     "exception": false,
     "start_time": "2023-08-16T10:41:19.083796",
     "status": "completed"
    },
    "tags": []
   },
   "outputs": [],
   "source": [
    "# Splitting data into train and test\n",
    "\n",
    "X_train,X_test,Y_train,Y_test = train_test_split(tfidf_array, Y, test_size=0.2, stratify=Y, random_state=42)"
   ]
  },
  {
   "cell_type": "code",
   "execution_count": 24,
   "id": "0bcd2c62",
   "metadata": {
    "execution": {
     "iopub.execute_input": "2023-08-16T10:41:22.331938Z",
     "iopub.status.busy": "2023-08-16T10:41:22.331035Z",
     "iopub.status.idle": "2023-08-16T10:41:22.336262Z",
     "shell.execute_reply": "2023-08-16T10:41:22.335422Z"
    },
    "papermill": {
     "duration": 0.020606,
     "end_time": "2023-08-16T10:41:22.338565",
     "exception": false,
     "start_time": "2023-08-16T10:41:22.317959",
     "status": "completed"
    },
    "tags": []
   },
   "outputs": [],
   "source": [
    "model = LogisticRegression()"
   ]
  },
  {
   "cell_type": "code",
   "execution_count": 25,
   "id": "c4615f63",
   "metadata": {
    "execution": {
     "iopub.execute_input": "2023-08-16T10:41:22.364360Z",
     "iopub.status.busy": "2023-08-16T10:41:22.363681Z",
     "iopub.status.idle": "2023-08-16T10:41:44.935391Z",
     "shell.execute_reply": "2023-08-16T10:41:44.933607Z"
    },
    "papermill": {
     "duration": 22.589315,
     "end_time": "2023-08-16T10:41:44.939539",
     "exception": false,
     "start_time": "2023-08-16T10:41:22.350224",
     "status": "completed"
    },
    "tags": []
   },
   "outputs": [
    {
     "data": {
      "text/html": [
       "<style>#sk-container-id-2 {color: black;background-color: white;}#sk-container-id-2 pre{padding: 0;}#sk-container-id-2 div.sk-toggleable {background-color: white;}#sk-container-id-2 label.sk-toggleable__label {cursor: pointer;display: block;width: 100%;margin-bottom: 0;padding: 0.3em;box-sizing: border-box;text-align: center;}#sk-container-id-2 label.sk-toggleable__label-arrow:before {content: \"▸\";float: left;margin-right: 0.25em;color: #696969;}#sk-container-id-2 label.sk-toggleable__label-arrow:hover:before {color: black;}#sk-container-id-2 div.sk-estimator:hover label.sk-toggleable__label-arrow:before {color: black;}#sk-container-id-2 div.sk-toggleable__content {max-height: 0;max-width: 0;overflow: hidden;text-align: left;background-color: #f0f8ff;}#sk-container-id-2 div.sk-toggleable__content pre {margin: 0.2em;color: black;border-radius: 0.25em;background-color: #f0f8ff;}#sk-container-id-2 input.sk-toggleable__control:checked~div.sk-toggleable__content {max-height: 200px;max-width: 100%;overflow: auto;}#sk-container-id-2 input.sk-toggleable__control:checked~label.sk-toggleable__label-arrow:before {content: \"▾\";}#sk-container-id-2 div.sk-estimator input.sk-toggleable__control:checked~label.sk-toggleable__label {background-color: #d4ebff;}#sk-container-id-2 div.sk-label input.sk-toggleable__control:checked~label.sk-toggleable__label {background-color: #d4ebff;}#sk-container-id-2 input.sk-hidden--visually {border: 0;clip: rect(1px 1px 1px 1px);clip: rect(1px, 1px, 1px, 1px);height: 1px;margin: -1px;overflow: hidden;padding: 0;position: absolute;width: 1px;}#sk-container-id-2 div.sk-estimator {font-family: monospace;background-color: #f0f8ff;border: 1px dotted black;border-radius: 0.25em;box-sizing: border-box;margin-bottom: 0.5em;}#sk-container-id-2 div.sk-estimator:hover {background-color: #d4ebff;}#sk-container-id-2 div.sk-parallel-item::after {content: \"\";width: 100%;border-bottom: 1px solid gray;flex-grow: 1;}#sk-container-id-2 div.sk-label:hover label.sk-toggleable__label {background-color: #d4ebff;}#sk-container-id-2 div.sk-serial::before {content: \"\";position: absolute;border-left: 1px solid gray;box-sizing: border-box;top: 0;bottom: 0;left: 50%;z-index: 0;}#sk-container-id-2 div.sk-serial {display: flex;flex-direction: column;align-items: center;background-color: white;padding-right: 0.2em;padding-left: 0.2em;position: relative;}#sk-container-id-2 div.sk-item {position: relative;z-index: 1;}#sk-container-id-2 div.sk-parallel {display: flex;align-items: stretch;justify-content: center;background-color: white;position: relative;}#sk-container-id-2 div.sk-item::before, #sk-container-id-2 div.sk-parallel-item::before {content: \"\";position: absolute;border-left: 1px solid gray;box-sizing: border-box;top: 0;bottom: 0;left: 50%;z-index: -1;}#sk-container-id-2 div.sk-parallel-item {display: flex;flex-direction: column;z-index: 1;position: relative;background-color: white;}#sk-container-id-2 div.sk-parallel-item:first-child::after {align-self: flex-end;width: 50%;}#sk-container-id-2 div.sk-parallel-item:last-child::after {align-self: flex-start;width: 50%;}#sk-container-id-2 div.sk-parallel-item:only-child::after {width: 0;}#sk-container-id-2 div.sk-dashed-wrapped {border: 1px dashed gray;margin: 0 0.4em 0.5em 0.4em;box-sizing: border-box;padding-bottom: 0.4em;background-color: white;}#sk-container-id-2 div.sk-label label {font-family: monospace;font-weight: bold;display: inline-block;line-height: 1.2em;}#sk-container-id-2 div.sk-label-container {text-align: center;}#sk-container-id-2 div.sk-container {/* jupyter's `normalize.less` sets `[hidden] { display: none; }` but bootstrap.min.css set `[hidden] { display: none !important; }` so we also need the `!important` here to be able to override the default hidden behavior on the sphinx rendered scikit-learn.org. See: https://github.com/scikit-learn/scikit-learn/issues/21755 */display: inline-block !important;position: relative;}#sk-container-id-2 div.sk-text-repr-fallback {display: none;}</style><div id=\"sk-container-id-2\" class=\"sk-top-container\"><div class=\"sk-text-repr-fallback\"><pre>LogisticRegression()</pre><b>In a Jupyter environment, please rerun this cell to show the HTML representation or trust the notebook. <br />On GitHub, the HTML representation is unable to render, please try loading this page with nbviewer.org.</b></div><div class=\"sk-container\" hidden><div class=\"sk-item\"><div class=\"sk-estimator sk-toggleable\"><input class=\"sk-toggleable__control sk-hidden--visually\" id=\"sk-estimator-id-2\" type=\"checkbox\" checked><label for=\"sk-estimator-id-2\" class=\"sk-toggleable__label sk-toggleable__label-arrow\">LogisticRegression</label><div class=\"sk-toggleable__content\"><pre>LogisticRegression()</pre></div></div></div></div></div>"
      ],
      "text/plain": [
       "LogisticRegression()"
      ]
     },
     "execution_count": 25,
     "metadata": {},
     "output_type": "execute_result"
    }
   ],
   "source": [
    "model.fit(X_train,Y_train)"
   ]
  },
  {
   "cell_type": "code",
   "execution_count": 26,
   "id": "df0bbb8f",
   "metadata": {
    "execution": {
     "iopub.execute_input": "2023-08-16T10:41:45.033893Z",
     "iopub.status.busy": "2023-08-16T10:41:45.033014Z",
     "iopub.status.idle": "2023-08-16T10:41:45.180433Z",
     "shell.execute_reply": "2023-08-16T10:41:45.178500Z"
    },
    "papermill": {
     "duration": 0.202347,
     "end_time": "2023-08-16T10:41:45.185378",
     "exception": false,
     "start_time": "2023-08-16T10:41:44.983031",
     "status": "completed"
    },
    "tags": []
   },
   "outputs": [
    {
     "data": {
      "text/plain": [
       "array([1, 0, 0, ..., 1, 1, 0])"
      ]
     },
     "execution_count": 26,
     "metadata": {},
     "output_type": "execute_result"
    }
   ],
   "source": [
    "model.predict(X_test)"
   ]
  },
  {
   "cell_type": "code",
   "execution_count": 27,
   "id": "56cc1828",
   "metadata": {
    "execution": {
     "iopub.execute_input": "2023-08-16T10:41:45.240073Z",
     "iopub.status.busy": "2023-08-16T10:41:45.239156Z",
     "iopub.status.idle": "2023-08-16T10:41:45.406184Z",
     "shell.execute_reply": "2023-08-16T10:41:45.404513Z"
    },
    "papermill": {
     "duration": 0.199148,
     "end_time": "2023-08-16T10:41:45.410743",
     "exception": false,
     "start_time": "2023-08-16T10:41:45.211595",
     "status": "completed"
    },
    "tags": []
   },
   "outputs": [
    {
     "data": {
      "text/plain": [
       "1.0"
      ]
     },
     "execution_count": 27,
     "metadata": {},
     "output_type": "execute_result"
    }
   ],
   "source": [
    "model.score(X_test,Y_test)"
   ]
  },
  {
   "cell_type": "code",
   "execution_count": null,
   "id": "ac641f70",
   "metadata": {
    "papermill": {
     "duration": 0.026537,
     "end_time": "2023-08-16T10:41:45.464272",
     "exception": false,
     "start_time": "2023-08-16T10:41:45.437735",
     "status": "completed"
    },
    "tags": []
   },
   "outputs": [],
   "source": []
  }
 ],
 "metadata": {
  "kernelspec": {
   "display_name": "Python 3",
   "language": "python",
   "name": "python3"
  },
  "language_info": {
   "codemirror_mode": {
    "name": "ipython",
    "version": 3
   },
   "file_extension": ".py",
   "mimetype": "text/x-python",
   "name": "python",
   "nbconvert_exporter": "python",
   "pygments_lexer": "ipython3",
   "version": "3.10.12"
  },
  "papermill": {
   "default_parameters": {},
   "duration": 159.647212,
   "end_time": "2023-08-16T10:41:46.726924",
   "environment_variables": {},
   "exception": null,
   "input_path": "__notebook__.ipynb",
   "output_path": "__notebook__.ipynb",
   "parameters": {},
   "start_time": "2023-08-16T10:39:07.079712",
   "version": "2.4.0"
  }
 },
 "nbformat": 4,
 "nbformat_minor": 5
}
